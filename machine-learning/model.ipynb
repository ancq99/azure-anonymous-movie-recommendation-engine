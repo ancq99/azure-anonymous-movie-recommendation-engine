{
 "cells": [
  {
   "cell_type": "code",
   "execution_count": 9,
   "metadata": {
    "collapsed": true
   },
   "outputs": [],
   "source": [
    "import numpy as np\n",
    "import pandas as pd"
   ]
  },
  {
   "cell_type": "code",
   "execution_count": 10,
   "outputs": [],
   "source": [
    "query_sql = \"\"\"\n",
    "select *\n",
    "from movies as mv\n",
    "\n",
    "         inner join\n",
    "\n",
    "     (select castlistfk, string_agg(name, ',') as castlist\n",
    "      from castlist\n",
    "      GROUP BY castlistfk) as castlist\n",
    "     on mv.movie_id = castlist.castlistfk\n",
    "\n",
    "         inner join\n",
    "\n",
    "     (select crewlistfk, string_agg(name, ',') as crewlist\n",
    "      from crewlist\n",
    "      GROUP BY crewlistfk\n",
    "     ) as crewlistfk\n",
    "     on mv.movie_id = crewlistfk.crewlistfk\n",
    "\n",
    "         inner join\n",
    "     (select ratinglistfk, string_agg(userid::character varying, ',') as useridlist ,count(userid) as number_of_votes\n",
    "      from ratinglist\n",
    "      where rating = 5\n",
    "\n",
    "\n",
    "      group by ratinglistfk\n",
    "        having count(userid) > 300\n",
    "     ) as useridlist\n",
    "     on mv.movie_id = useridlist.ratinglistfk\n",
    "\"\"\""
   ],
   "metadata": {
    "collapsed": false
   }
  },
  {
   "cell_type": "markdown",
   "source": [
    "Get data from PostgreSQL Server (azure resource movie-warehouse must be run)"
   ],
   "metadata": {
    "collapsed": false
   }
  },
  {
   "cell_type": "code",
   "execution_count": 12,
   "outputs": [
    {
     "data": {
      "text/plain": "      movie_id                                  title  year  isadult runtime  \\\n0          241                          The Gold Rush  1925        0      95   \n1         1053                  Bride of Frankenstein  1935        0      75   \n2         1008                           The Thin Man  1934        0      91   \n3          164  Nosferatu, eine Symphonie des Grauens  1922        0      94   \n4          481         All Quiet on the Western Front  1930        0     152   \n...        ...                                    ...   ...      ...     ...   \n2465     23482                            The Aviator  2004        0     170   \n2466     36594                 Spider-Man: Homecoming  2017        0     133   \n2467      9880                             Eraserhead  1977        0      89   \n2468     24757                                   Bolt  2008        0      96   \n2469     39850                      X-Men: Apocalypse  2016        0     144   \n\n         genre1     genre2  genre3  crewnumber  castnumber  avgrating  \\\n0     Adventure     Comedy   Drama           1           7      4.053   \n1         Drama     Horror  Sci-Fi          12           2      3.731   \n2        Comedy    Mystery      \\N           4           2      4.151   \n3       Fantasy     Horror      \\N           3           3      3.871   \n4         Drama        War      \\N           7           4      3.936   \n...         ...        ...     ...         ...         ...        ...   \n2465  Biography      Drama      \\N           2           2      3.599   \n2466     Action  Adventure  Sci-Fi          10           3      3.767   \n2467    Fantasy     Horror      \\N           1           2      3.632   \n2468  Adventure  Animation  Comedy           3           2      3.363   \n2469     Action  Adventure  Sci-Fi           6           3      3.300   \n\n      numofvotes  castlistfk  \\\n0           2553         241   \n1           2541        1053   \n2           3704        1008   \n3           4515         164   \n4           2888         481   \n...          ...         ...   \n2465        9606       23482   \n2466        2662       36594   \n2467        3516        9880   \n2468        3603       24757   \n2469        2704       39850   \n\n                                               castlist  crewlistfk  \\\n0     Frank Aderias,Charles Chaplin,Mack Swain,Tom M...         241   \n1                             Boris Karloff,Colin Clive        1053   \n2                          William Powell,Nat Pendleton        1008   \n3     Max Schreck,Alexander Granach,Gustav von Wange...         164   \n4         Lew Ayres,Louis Wolheim,John Wray,Arnold Lucy         481   \n...                                                 ...         ...   \n2465                   Leonardo DiCaprio,John C. Reilly       23482   \n2466       Tom Holland,Michael Keaton,Robert Downey Jr.       36594   \n2467                            Jack Nance,Allen Joseph        9880   \n2468                          John Travolta,Mark Walton       24757   \n2469     James McAvoy,Michael Fassbender,Nicholas Hoult       39850   \n\n                                               crewlist  ratinglistfk  \\\n0                                       Charles Chaplin           241   \n1     James Whale,Mary Shelley,William Hurlbut,John ...          1053   \n2     W.S. Van Dyke,Albert Hackett,Frances Goodrich,...          1008   \n3                 F.W. Murnau,Henrik Galeen,Bram Stoker           164   \n4     Lewis Milestone,Erich Maria Remarque,Maxwell A...           481   \n...                                                 ...           ...   \n2465                         Martin Scorsese,John Logan         23482   \n2466  Jon Watts,Jonathan Goldstein,John Francis Dale...         36594   \n2467                                        David Lynch          9880   \n2468           Chris Williams,Byron Howard,Dan Fogelman         24757   \n2469  Bryan Singer,Simon Kinberg,Michael Dougherty,D...         39850   \n\n                                             useridlist  number_of_votes  \n0     235,428,621,980,1027,1120,1197,1234,1272,1393,...             1077  \n1     235,357,540,908,1471,1771,2025,2035,2040,2329,...              723  \n2     43,160,486,502,559,581,620,664,856,926,1191,14...             1585  \n3     138,150,908,926,1086,1393,1400,1464,1519,2025,...             1480  \n4     187,255,408,486,540,1200,1551,1711,2025,2477,2...              996  \n...                                                 ...              ...  \n2465  414,540,549,1005,1028,1035,1126,1192,1427,1519...             1882  \n2466  444,449,1089,2064,2230,2306,2618,2956,3360,379...              791  \n2467  247,255,590,970,985,1185,1210,1242,1393,1980,2...             1109  \n2468  176,449,521,540,1010,1475,2418,3938,4559,5131,...              501  \n2469  368,379,2230,4226,4357,4586,4818,5903,6836,712...              410  \n\n[2470 rows x 19 columns]",
      "text/html": "<div>\n<style scoped>\n    .dataframe tbody tr th:only-of-type {\n        vertical-align: middle;\n    }\n\n    .dataframe tbody tr th {\n        vertical-align: top;\n    }\n\n    .dataframe thead th {\n        text-align: right;\n    }\n</style>\n<table border=\"1\" class=\"dataframe\">\n  <thead>\n    <tr style=\"text-align: right;\">\n      <th></th>\n      <th>movie_id</th>\n      <th>title</th>\n      <th>year</th>\n      <th>isadult</th>\n      <th>runtime</th>\n      <th>genre1</th>\n      <th>genre2</th>\n      <th>genre3</th>\n      <th>crewnumber</th>\n      <th>castnumber</th>\n      <th>avgrating</th>\n      <th>numofvotes</th>\n      <th>castlistfk</th>\n      <th>castlist</th>\n      <th>crewlistfk</th>\n      <th>crewlist</th>\n      <th>ratinglistfk</th>\n      <th>useridlist</th>\n      <th>number_of_votes</th>\n    </tr>\n  </thead>\n  <tbody>\n    <tr>\n      <th>0</th>\n      <td>241</td>\n      <td>The Gold Rush</td>\n      <td>1925</td>\n      <td>0</td>\n      <td>95</td>\n      <td>Adventure</td>\n      <td>Comedy</td>\n      <td>Drama</td>\n      <td>1</td>\n      <td>7</td>\n      <td>4.053</td>\n      <td>2553</td>\n      <td>241</td>\n      <td>Frank Aderias,Charles Chaplin,Mack Swain,Tom M...</td>\n      <td>241</td>\n      <td>Charles Chaplin</td>\n      <td>241</td>\n      <td>235,428,621,980,1027,1120,1197,1234,1272,1393,...</td>\n      <td>1077</td>\n    </tr>\n    <tr>\n      <th>1</th>\n      <td>1053</td>\n      <td>Bride of Frankenstein</td>\n      <td>1935</td>\n      <td>0</td>\n      <td>75</td>\n      <td>Drama</td>\n      <td>Horror</td>\n      <td>Sci-Fi</td>\n      <td>12</td>\n      <td>2</td>\n      <td>3.731</td>\n      <td>2541</td>\n      <td>1053</td>\n      <td>Boris Karloff,Colin Clive</td>\n      <td>1053</td>\n      <td>James Whale,Mary Shelley,William Hurlbut,John ...</td>\n      <td>1053</td>\n      <td>235,357,540,908,1471,1771,2025,2035,2040,2329,...</td>\n      <td>723</td>\n    </tr>\n    <tr>\n      <th>2</th>\n      <td>1008</td>\n      <td>The Thin Man</td>\n      <td>1934</td>\n      <td>0</td>\n      <td>91</td>\n      <td>Comedy</td>\n      <td>Mystery</td>\n      <td>\\N</td>\n      <td>4</td>\n      <td>2</td>\n      <td>4.151</td>\n      <td>3704</td>\n      <td>1008</td>\n      <td>William Powell,Nat Pendleton</td>\n      <td>1008</td>\n      <td>W.S. Van Dyke,Albert Hackett,Frances Goodrich,...</td>\n      <td>1008</td>\n      <td>43,160,486,502,559,581,620,664,856,926,1191,14...</td>\n      <td>1585</td>\n    </tr>\n    <tr>\n      <th>3</th>\n      <td>164</td>\n      <td>Nosferatu, eine Symphonie des Grauens</td>\n      <td>1922</td>\n      <td>0</td>\n      <td>94</td>\n      <td>Fantasy</td>\n      <td>Horror</td>\n      <td>\\N</td>\n      <td>3</td>\n      <td>3</td>\n      <td>3.871</td>\n      <td>4515</td>\n      <td>164</td>\n      <td>Max Schreck,Alexander Granach,Gustav von Wange...</td>\n      <td>164</td>\n      <td>F.W. Murnau,Henrik Galeen,Bram Stoker</td>\n      <td>164</td>\n      <td>138,150,908,926,1086,1393,1400,1464,1519,2025,...</td>\n      <td>1480</td>\n    </tr>\n    <tr>\n      <th>4</th>\n      <td>481</td>\n      <td>All Quiet on the Western Front</td>\n      <td>1930</td>\n      <td>0</td>\n      <td>152</td>\n      <td>Drama</td>\n      <td>War</td>\n      <td>\\N</td>\n      <td>7</td>\n      <td>4</td>\n      <td>3.936</td>\n      <td>2888</td>\n      <td>481</td>\n      <td>Lew Ayres,Louis Wolheim,John Wray,Arnold Lucy</td>\n      <td>481</td>\n      <td>Lewis Milestone,Erich Maria Remarque,Maxwell A...</td>\n      <td>481</td>\n      <td>187,255,408,486,540,1200,1551,1711,2025,2477,2...</td>\n      <td>996</td>\n    </tr>\n    <tr>\n      <th>...</th>\n      <td>...</td>\n      <td>...</td>\n      <td>...</td>\n      <td>...</td>\n      <td>...</td>\n      <td>...</td>\n      <td>...</td>\n      <td>...</td>\n      <td>...</td>\n      <td>...</td>\n      <td>...</td>\n      <td>...</td>\n      <td>...</td>\n      <td>...</td>\n      <td>...</td>\n      <td>...</td>\n      <td>...</td>\n      <td>...</td>\n      <td>...</td>\n    </tr>\n    <tr>\n      <th>2465</th>\n      <td>23482</td>\n      <td>The Aviator</td>\n      <td>2004</td>\n      <td>0</td>\n      <td>170</td>\n      <td>Biography</td>\n      <td>Drama</td>\n      <td>\\N</td>\n      <td>2</td>\n      <td>2</td>\n      <td>3.599</td>\n      <td>9606</td>\n      <td>23482</td>\n      <td>Leonardo DiCaprio,John C. Reilly</td>\n      <td>23482</td>\n      <td>Martin Scorsese,John Logan</td>\n      <td>23482</td>\n      <td>414,540,549,1005,1028,1035,1126,1192,1427,1519...</td>\n      <td>1882</td>\n    </tr>\n    <tr>\n      <th>2466</th>\n      <td>36594</td>\n      <td>Spider-Man: Homecoming</td>\n      <td>2017</td>\n      <td>0</td>\n      <td>133</td>\n      <td>Action</td>\n      <td>Adventure</td>\n      <td>Sci-Fi</td>\n      <td>10</td>\n      <td>3</td>\n      <td>3.767</td>\n      <td>2662</td>\n      <td>36594</td>\n      <td>Tom Holland,Michael Keaton,Robert Downey Jr.</td>\n      <td>36594</td>\n      <td>Jon Watts,Jonathan Goldstein,John Francis Dale...</td>\n      <td>36594</td>\n      <td>444,449,1089,2064,2230,2306,2618,2956,3360,379...</td>\n      <td>791</td>\n    </tr>\n    <tr>\n      <th>2467</th>\n      <td>9880</td>\n      <td>Eraserhead</td>\n      <td>1977</td>\n      <td>0</td>\n      <td>89</td>\n      <td>Fantasy</td>\n      <td>Horror</td>\n      <td>\\N</td>\n      <td>1</td>\n      <td>2</td>\n      <td>3.632</td>\n      <td>3516</td>\n      <td>9880</td>\n      <td>Jack Nance,Allen Joseph</td>\n      <td>9880</td>\n      <td>David Lynch</td>\n      <td>9880</td>\n      <td>247,255,590,970,985,1185,1210,1242,1393,1980,2...</td>\n      <td>1109</td>\n    </tr>\n    <tr>\n      <th>2468</th>\n      <td>24757</td>\n      <td>Bolt</td>\n      <td>2008</td>\n      <td>0</td>\n      <td>96</td>\n      <td>Adventure</td>\n      <td>Animation</td>\n      <td>Comedy</td>\n      <td>3</td>\n      <td>2</td>\n      <td>3.363</td>\n      <td>3603</td>\n      <td>24757</td>\n      <td>John Travolta,Mark Walton</td>\n      <td>24757</td>\n      <td>Chris Williams,Byron Howard,Dan Fogelman</td>\n      <td>24757</td>\n      <td>176,449,521,540,1010,1475,2418,3938,4559,5131,...</td>\n      <td>501</td>\n    </tr>\n    <tr>\n      <th>2469</th>\n      <td>39850</td>\n      <td>X-Men: Apocalypse</td>\n      <td>2016</td>\n      <td>0</td>\n      <td>144</td>\n      <td>Action</td>\n      <td>Adventure</td>\n      <td>Sci-Fi</td>\n      <td>6</td>\n      <td>3</td>\n      <td>3.300</td>\n      <td>2704</td>\n      <td>39850</td>\n      <td>James McAvoy,Michael Fassbender,Nicholas Hoult</td>\n      <td>39850</td>\n      <td>Bryan Singer,Simon Kinberg,Michael Dougherty,D...</td>\n      <td>39850</td>\n      <td>368,379,2230,4226,4357,4586,4818,5903,6836,712...</td>\n      <td>410</td>\n    </tr>\n  </tbody>\n</table>\n<p>2470 rows × 19 columns</p>\n</div>"
     },
     "execution_count": 11,
     "metadata": {},
     "output_type": "execute_result"
    },
    {
     "name": "stderr",
     "output_type": "stream",
     "text": [
      "/tmp/ipykernel_38424/1837359706.py:9: UserWarning: pandas only supports SQLAlchemy connectable (engine/connection) or database string URI or sqlite3 DBAPI2 connection. Other DBAPI2 objects are not tested. Please consider using SQLAlchemy.\n",
      "  data_org = pd.read_sql(query_sql, conn)\n"
     ]
    },
    {
     "data": {
      "text/plain": "      movie_id                                  title  year  isadult runtime  \\\n0          241                          The Gold Rush  1925        0      95   \n1         1053                  Bride of Frankenstein  1935        0      75   \n2         1008                           The Thin Man  1934        0      91   \n3          164  Nosferatu, eine Symphonie des Grauens  1922        0      94   \n4          481         All Quiet on the Western Front  1930        0     152   \n...        ...                                    ...   ...      ...     ...   \n2465     23482                            The Aviator  2004        0     170   \n2466     36594                 Spider-Man: Homecoming  2017        0     133   \n2467      9880                             Eraserhead  1977        0      89   \n2468     24757                                   Bolt  2008        0      96   \n2469     39850                      X-Men: Apocalypse  2016        0     144   \n\n         genre1     genre2  genre3  crewnumber  castnumber  avgrating  \\\n0     Adventure     Comedy   Drama           1           7      4.053   \n1         Drama     Horror  Sci-Fi          12           2      3.731   \n2        Comedy    Mystery      \\N           4           2      4.151   \n3       Fantasy     Horror      \\N           3           3      3.871   \n4         Drama        War      \\N           7           4      3.936   \n...         ...        ...     ...         ...         ...        ...   \n2465  Biography      Drama      \\N           2           2      3.599   \n2466     Action  Adventure  Sci-Fi          10           3      3.767   \n2467    Fantasy     Horror      \\N           1           2      3.632   \n2468  Adventure  Animation  Comedy           3           2      3.363   \n2469     Action  Adventure  Sci-Fi           6           3      3.300   \n\n      numofvotes  castlistfk  \\\n0           2553         241   \n1           2541        1053   \n2           3704        1008   \n3           4515         164   \n4           2888         481   \n...          ...         ...   \n2465        9606       23482   \n2466        2662       36594   \n2467        3516        9880   \n2468        3603       24757   \n2469        2704       39850   \n\n                                               castlist  crewlistfk  \\\n0     Frank Aderias,Charles Chaplin,Mack Swain,Tom M...         241   \n1                             Boris Karloff,Colin Clive        1053   \n2                          William Powell,Nat Pendleton        1008   \n3     Max Schreck,Alexander Granach,Gustav von Wange...         164   \n4         Lew Ayres,Louis Wolheim,John Wray,Arnold Lucy         481   \n...                                                 ...         ...   \n2465                   Leonardo DiCaprio,John C. Reilly       23482   \n2466       Tom Holland,Michael Keaton,Robert Downey Jr.       36594   \n2467                            Jack Nance,Allen Joseph        9880   \n2468                          John Travolta,Mark Walton       24757   \n2469     James McAvoy,Michael Fassbender,Nicholas Hoult       39850   \n\n                                               crewlist  ratinglistfk  \\\n0                                       Charles Chaplin           241   \n1     James Whale,Mary Shelley,William Hurlbut,John ...          1053   \n2     W.S. Van Dyke,Albert Hackett,Frances Goodrich,...          1008   \n3                 F.W. Murnau,Henrik Galeen,Bram Stoker           164   \n4     Lewis Milestone,Erich Maria Remarque,Maxwell A...           481   \n...                                                 ...           ...   \n2465                         Martin Scorsese,John Logan         23482   \n2466  Jon Watts,Jonathan Goldstein,John Francis Dale...         36594   \n2467                                        David Lynch          9880   \n2468           Chris Williams,Byron Howard,Dan Fogelman         24757   \n2469  Bryan Singer,Simon Kinberg,Michael Dougherty,D...         39850   \n\n                                             useridlist  number_of_votes  \n0     235,428,621,980,1027,1120,1197,1234,1272,1393,...             1077  \n1     235,357,540,908,1471,1771,2025,2035,2040,2329,...              723  \n2     43,160,486,502,559,581,620,664,856,926,1191,14...             1585  \n3     138,150,908,926,1086,1393,1400,1464,1519,2025,...             1480  \n4     187,255,408,486,540,1200,1551,1711,2025,2477,2...              996  \n...                                                 ...              ...  \n2465  414,540,549,1005,1028,1035,1126,1192,1427,1519...             1882  \n2466  444,449,1089,2064,2230,2306,2618,2956,3360,379...              791  \n2467  247,255,590,970,985,1185,1210,1242,1393,1980,2...             1109  \n2468  176,449,521,540,1010,1475,2418,3938,4559,5131,...              501  \n2469  368,379,2230,4226,4357,4586,4818,5903,6836,712...              410  \n\n[2470 rows x 19 columns]",
      "text/html": "<div>\n<style scoped>\n    .dataframe tbody tr th:only-of-type {\n        vertical-align: middle;\n    }\n\n    .dataframe tbody tr th {\n        vertical-align: top;\n    }\n\n    .dataframe thead th {\n        text-align: right;\n    }\n</style>\n<table border=\"1\" class=\"dataframe\">\n  <thead>\n    <tr style=\"text-align: right;\">\n      <th></th>\n      <th>movie_id</th>\n      <th>title</th>\n      <th>year</th>\n      <th>isadult</th>\n      <th>runtime</th>\n      <th>genre1</th>\n      <th>genre2</th>\n      <th>genre3</th>\n      <th>crewnumber</th>\n      <th>castnumber</th>\n      <th>avgrating</th>\n      <th>numofvotes</th>\n      <th>castlistfk</th>\n      <th>castlist</th>\n      <th>crewlistfk</th>\n      <th>crewlist</th>\n      <th>ratinglistfk</th>\n      <th>useridlist</th>\n      <th>number_of_votes</th>\n    </tr>\n  </thead>\n  <tbody>\n    <tr>\n      <th>0</th>\n      <td>241</td>\n      <td>The Gold Rush</td>\n      <td>1925</td>\n      <td>0</td>\n      <td>95</td>\n      <td>Adventure</td>\n      <td>Comedy</td>\n      <td>Drama</td>\n      <td>1</td>\n      <td>7</td>\n      <td>4.053</td>\n      <td>2553</td>\n      <td>241</td>\n      <td>Frank Aderias,Charles Chaplin,Mack Swain,Tom M...</td>\n      <td>241</td>\n      <td>Charles Chaplin</td>\n      <td>241</td>\n      <td>235,428,621,980,1027,1120,1197,1234,1272,1393,...</td>\n      <td>1077</td>\n    </tr>\n    <tr>\n      <th>1</th>\n      <td>1053</td>\n      <td>Bride of Frankenstein</td>\n      <td>1935</td>\n      <td>0</td>\n      <td>75</td>\n      <td>Drama</td>\n      <td>Horror</td>\n      <td>Sci-Fi</td>\n      <td>12</td>\n      <td>2</td>\n      <td>3.731</td>\n      <td>2541</td>\n      <td>1053</td>\n      <td>Boris Karloff,Colin Clive</td>\n      <td>1053</td>\n      <td>James Whale,Mary Shelley,William Hurlbut,John ...</td>\n      <td>1053</td>\n      <td>235,357,540,908,1471,1771,2025,2035,2040,2329,...</td>\n      <td>723</td>\n    </tr>\n    <tr>\n      <th>2</th>\n      <td>1008</td>\n      <td>The Thin Man</td>\n      <td>1934</td>\n      <td>0</td>\n      <td>91</td>\n      <td>Comedy</td>\n      <td>Mystery</td>\n      <td>\\N</td>\n      <td>4</td>\n      <td>2</td>\n      <td>4.151</td>\n      <td>3704</td>\n      <td>1008</td>\n      <td>William Powell,Nat Pendleton</td>\n      <td>1008</td>\n      <td>W.S. Van Dyke,Albert Hackett,Frances Goodrich,...</td>\n      <td>1008</td>\n      <td>43,160,486,502,559,581,620,664,856,926,1191,14...</td>\n      <td>1585</td>\n    </tr>\n    <tr>\n      <th>3</th>\n      <td>164</td>\n      <td>Nosferatu, eine Symphonie des Grauens</td>\n      <td>1922</td>\n      <td>0</td>\n      <td>94</td>\n      <td>Fantasy</td>\n      <td>Horror</td>\n      <td>\\N</td>\n      <td>3</td>\n      <td>3</td>\n      <td>3.871</td>\n      <td>4515</td>\n      <td>164</td>\n      <td>Max Schreck,Alexander Granach,Gustav von Wange...</td>\n      <td>164</td>\n      <td>F.W. Murnau,Henrik Galeen,Bram Stoker</td>\n      <td>164</td>\n      <td>138,150,908,926,1086,1393,1400,1464,1519,2025,...</td>\n      <td>1480</td>\n    </tr>\n    <tr>\n      <th>4</th>\n      <td>481</td>\n      <td>All Quiet on the Western Front</td>\n      <td>1930</td>\n      <td>0</td>\n      <td>152</td>\n      <td>Drama</td>\n      <td>War</td>\n      <td>\\N</td>\n      <td>7</td>\n      <td>4</td>\n      <td>3.936</td>\n      <td>2888</td>\n      <td>481</td>\n      <td>Lew Ayres,Louis Wolheim,John Wray,Arnold Lucy</td>\n      <td>481</td>\n      <td>Lewis Milestone,Erich Maria Remarque,Maxwell A...</td>\n      <td>481</td>\n      <td>187,255,408,486,540,1200,1551,1711,2025,2477,2...</td>\n      <td>996</td>\n    </tr>\n    <tr>\n      <th>...</th>\n      <td>...</td>\n      <td>...</td>\n      <td>...</td>\n      <td>...</td>\n      <td>...</td>\n      <td>...</td>\n      <td>...</td>\n      <td>...</td>\n      <td>...</td>\n      <td>...</td>\n      <td>...</td>\n      <td>...</td>\n      <td>...</td>\n      <td>...</td>\n      <td>...</td>\n      <td>...</td>\n      <td>...</td>\n      <td>...</td>\n      <td>...</td>\n    </tr>\n    <tr>\n      <th>2465</th>\n      <td>23482</td>\n      <td>The Aviator</td>\n      <td>2004</td>\n      <td>0</td>\n      <td>170</td>\n      <td>Biography</td>\n      <td>Drama</td>\n      <td>\\N</td>\n      <td>2</td>\n      <td>2</td>\n      <td>3.599</td>\n      <td>9606</td>\n      <td>23482</td>\n      <td>Leonardo DiCaprio,John C. Reilly</td>\n      <td>23482</td>\n      <td>Martin Scorsese,John Logan</td>\n      <td>23482</td>\n      <td>414,540,549,1005,1028,1035,1126,1192,1427,1519...</td>\n      <td>1882</td>\n    </tr>\n    <tr>\n      <th>2466</th>\n      <td>36594</td>\n      <td>Spider-Man: Homecoming</td>\n      <td>2017</td>\n      <td>0</td>\n      <td>133</td>\n      <td>Action</td>\n      <td>Adventure</td>\n      <td>Sci-Fi</td>\n      <td>10</td>\n      <td>3</td>\n      <td>3.767</td>\n      <td>2662</td>\n      <td>36594</td>\n      <td>Tom Holland,Michael Keaton,Robert Downey Jr.</td>\n      <td>36594</td>\n      <td>Jon Watts,Jonathan Goldstein,John Francis Dale...</td>\n      <td>36594</td>\n      <td>444,449,1089,2064,2230,2306,2618,2956,3360,379...</td>\n      <td>791</td>\n    </tr>\n    <tr>\n      <th>2467</th>\n      <td>9880</td>\n      <td>Eraserhead</td>\n      <td>1977</td>\n      <td>0</td>\n      <td>89</td>\n      <td>Fantasy</td>\n      <td>Horror</td>\n      <td>\\N</td>\n      <td>1</td>\n      <td>2</td>\n      <td>3.632</td>\n      <td>3516</td>\n      <td>9880</td>\n      <td>Jack Nance,Allen Joseph</td>\n      <td>9880</td>\n      <td>David Lynch</td>\n      <td>9880</td>\n      <td>247,255,590,970,985,1185,1210,1242,1393,1980,2...</td>\n      <td>1109</td>\n    </tr>\n    <tr>\n      <th>2468</th>\n      <td>24757</td>\n      <td>Bolt</td>\n      <td>2008</td>\n      <td>0</td>\n      <td>96</td>\n      <td>Adventure</td>\n      <td>Animation</td>\n      <td>Comedy</td>\n      <td>3</td>\n      <td>2</td>\n      <td>3.363</td>\n      <td>3603</td>\n      <td>24757</td>\n      <td>John Travolta,Mark Walton</td>\n      <td>24757</td>\n      <td>Chris Williams,Byron Howard,Dan Fogelman</td>\n      <td>24757</td>\n      <td>176,449,521,540,1010,1475,2418,3938,4559,5131,...</td>\n      <td>501</td>\n    </tr>\n    <tr>\n      <th>2469</th>\n      <td>39850</td>\n      <td>X-Men: Apocalypse</td>\n      <td>2016</td>\n      <td>0</td>\n      <td>144</td>\n      <td>Action</td>\n      <td>Adventure</td>\n      <td>Sci-Fi</td>\n      <td>6</td>\n      <td>3</td>\n      <td>3.300</td>\n      <td>2704</td>\n      <td>39850</td>\n      <td>James McAvoy,Michael Fassbender,Nicholas Hoult</td>\n      <td>39850</td>\n      <td>Bryan Singer,Simon Kinberg,Michael Dougherty,D...</td>\n      <td>39850</td>\n      <td>368,379,2230,4226,4357,4586,4818,5903,6836,712...</td>\n      <td>410</td>\n    </tr>\n  </tbody>\n</table>\n<p>2470 rows × 19 columns</p>\n</div>"
     },
     "execution_count": 12,
     "metadata": {},
     "output_type": "execute_result"
    }
   ],
   "source": [
    "import psycopg2\n",
    "\n",
    "conn = psycopg2.connect(\"host=movie-warehouse.postgres.database.azure.com port=5432 dbname=warehouse user=read_data_user password=zaq1@WSX sslmode=require\")\n",
    "\n",
    "data_org = pd.read_sql(query_sql, conn)\n",
    "\n",
    "data_org"
   ],
   "metadata": {
    "collapsed": false
   }
  },
  {
   "cell_type": "markdown",
   "source": [
    "Clean up data"
   ],
   "metadata": {
    "collapsed": false
   }
  },
  {
   "cell_type": "code",
   "execution_count": 13,
   "outputs": [
    {
     "name": "stdout",
     "output_type": "stream",
     "text": [
      "<class 'pandas.core.frame.DataFrame'>\n",
      "RangeIndex: 2470 entries, 0 to 2469\n",
      "Data columns (total 15 columns):\n",
      " #   Column           Non-Null Count  Dtype  \n",
      "---  ------           --------------  -----  \n",
      " 0   movie_id         2470 non-null   int64  \n",
      " 1   title            2470 non-null   object \n",
      " 2   year             2470 non-null   int64  \n",
      " 3   isadult          2470 non-null   int64  \n",
      " 4   runtime          2470 non-null   int64  \n",
      " 5   genre1           2470 non-null   object \n",
      " 6   genre2           2470 non-null   object \n",
      " 7   genre3           2470 non-null   object \n",
      " 8   avgrating        2470 non-null   float64\n",
      " 9   numofvotes       2470 non-null   int64  \n",
      " 10  castlist         2470 non-null   object \n",
      " 11  crewlist         2470 non-null   object \n",
      " 12  useridlist       2470 non-null   object \n",
      " 13  number_of_votes  2470 non-null   int64  \n",
      " 14  genre            2470 non-null   object \n",
      "dtypes: float64(1), int64(6), object(8)\n",
      "memory usage: 289.6+ KB\n"
     ]
    },
    {
     "data": {
      "text/plain": "      movie_id                                  title  year  isadult  runtime  \\\n0          241                          The Gold Rush  1925        0       95   \n1         1053                  Bride of Frankenstein  1935        0       75   \n2         1008                           The Thin Man  1934        0       91   \n3          164  Nosferatu, eine Symphonie des Grauens  1922        0       94   \n4          481         All Quiet on the Western Front  1930        0      152   \n...        ...                                    ...   ...      ...      ...   \n2465     23482                            The Aviator  2004        0      170   \n2466     36594                 Spider-Man: Homecoming  2017        0      133   \n2467      9880                             Eraserhead  1977        0       89   \n2468     24757                                   Bolt  2008        0       96   \n2469     39850                      X-Men: Apocalypse  2016        0      144   \n\n         genre1     genre2  genre3  avgrating  numofvotes  \\\n0     Adventure     Comedy   Drama      4.053        2553   \n1         Drama     Horror  Sci-Fi      3.731        2541   \n2        Comedy    Mystery              4.151        3704   \n3       Fantasy     Horror              3.871        4515   \n4         Drama        War              3.936        2888   \n...         ...        ...     ...        ...         ...   \n2465  Biography      Drama              3.599        9606   \n2466     Action  Adventure  Sci-Fi      3.767        2662   \n2467    Fantasy     Horror              3.632        3516   \n2468  Adventure  Animation  Comedy      3.363        3603   \n2469     Action  Adventure  Sci-Fi      3.300        2704   \n\n                                               castlist  \\\n0     Frank Aderias,Charles Chaplin,Mack Swain,Tom M...   \n1                             Boris Karloff,Colin Clive   \n2                          William Powell,Nat Pendleton   \n3     Max Schreck,Alexander Granach,Gustav von Wange...   \n4         Lew Ayres,Louis Wolheim,John Wray,Arnold Lucy   \n...                                                 ...   \n2465                   Leonardo DiCaprio,John C. Reilly   \n2466       Tom Holland,Michael Keaton,Robert Downey Jr.   \n2467                            Jack Nance,Allen Joseph   \n2468                          John Travolta,Mark Walton   \n2469     James McAvoy,Michael Fassbender,Nicholas Hoult   \n\n                                               crewlist  \\\n0                                       Charles Chaplin   \n1     James Whale,Mary Shelley,William Hurlbut,John ...   \n2     W.S. Van Dyke,Albert Hackett,Frances Goodrich,...   \n3                 F.W. Murnau,Henrik Galeen,Bram Stoker   \n4     Lewis Milestone,Erich Maria Remarque,Maxwell A...   \n...                                                 ...   \n2465                         Martin Scorsese,John Logan   \n2466  Jon Watts,Jonathan Goldstein,John Francis Dale...   \n2467                                        David Lynch   \n2468           Chris Williams,Byron Howard,Dan Fogelman   \n2469  Bryan Singer,Simon Kinberg,Michael Dougherty,D...   \n\n                                             useridlist  number_of_votes  \\\n0     235,428,621,980,1027,1120,1197,1234,1272,1393,...             1077   \n1     235,357,540,908,1471,1771,2025,2035,2040,2329,...              723   \n2     43,160,486,502,559,581,620,664,856,926,1191,14...             1585   \n3     138,150,908,926,1086,1393,1400,1464,1519,2025,...             1480   \n4     187,255,408,486,540,1200,1551,1711,2025,2477,2...              996   \n...                                                 ...              ...   \n2465  414,540,549,1005,1028,1035,1126,1192,1427,1519...             1882   \n2466  444,449,1089,2064,2230,2306,2618,2956,3360,379...              791   \n2467  247,255,590,970,985,1185,1210,1242,1393,1980,2...             1109   \n2468  176,449,521,540,1010,1475,2418,3938,4559,5131,...              501   \n2469  368,379,2230,4226,4357,4586,4818,5903,6836,712...              410   \n\n                           genre  \n0         Adventure,Comedy,Drama  \n1            Drama,Horror,Sci-Fi  \n2                 Comedy,Mystery  \n3                 Fantasy,Horror  \n4                      Drama,War  \n...                          ...  \n2465             Biography,Drama  \n2466     Action,Adventure,Sci-Fi  \n2467              Fantasy,Horror  \n2468  Adventure,Animation,Comedy  \n2469     Action,Adventure,Sci-Fi  \n\n[2470 rows x 15 columns]",
      "text/html": "<div>\n<style scoped>\n    .dataframe tbody tr th:only-of-type {\n        vertical-align: middle;\n    }\n\n    .dataframe tbody tr th {\n        vertical-align: top;\n    }\n\n    .dataframe thead th {\n        text-align: right;\n    }\n</style>\n<table border=\"1\" class=\"dataframe\">\n  <thead>\n    <tr style=\"text-align: right;\">\n      <th></th>\n      <th>movie_id</th>\n      <th>title</th>\n      <th>year</th>\n      <th>isadult</th>\n      <th>runtime</th>\n      <th>genre1</th>\n      <th>genre2</th>\n      <th>genre3</th>\n      <th>avgrating</th>\n      <th>numofvotes</th>\n      <th>castlist</th>\n      <th>crewlist</th>\n      <th>useridlist</th>\n      <th>number_of_votes</th>\n      <th>genre</th>\n    </tr>\n  </thead>\n  <tbody>\n    <tr>\n      <th>0</th>\n      <td>241</td>\n      <td>The Gold Rush</td>\n      <td>1925</td>\n      <td>0</td>\n      <td>95</td>\n      <td>Adventure</td>\n      <td>Comedy</td>\n      <td>Drama</td>\n      <td>4.053</td>\n      <td>2553</td>\n      <td>Frank Aderias,Charles Chaplin,Mack Swain,Tom M...</td>\n      <td>Charles Chaplin</td>\n      <td>235,428,621,980,1027,1120,1197,1234,1272,1393,...</td>\n      <td>1077</td>\n      <td>Adventure,Comedy,Drama</td>\n    </tr>\n    <tr>\n      <th>1</th>\n      <td>1053</td>\n      <td>Bride of Frankenstein</td>\n      <td>1935</td>\n      <td>0</td>\n      <td>75</td>\n      <td>Drama</td>\n      <td>Horror</td>\n      <td>Sci-Fi</td>\n      <td>3.731</td>\n      <td>2541</td>\n      <td>Boris Karloff,Colin Clive</td>\n      <td>James Whale,Mary Shelley,William Hurlbut,John ...</td>\n      <td>235,357,540,908,1471,1771,2025,2035,2040,2329,...</td>\n      <td>723</td>\n      <td>Drama,Horror,Sci-Fi</td>\n    </tr>\n    <tr>\n      <th>2</th>\n      <td>1008</td>\n      <td>The Thin Man</td>\n      <td>1934</td>\n      <td>0</td>\n      <td>91</td>\n      <td>Comedy</td>\n      <td>Mystery</td>\n      <td></td>\n      <td>4.151</td>\n      <td>3704</td>\n      <td>William Powell,Nat Pendleton</td>\n      <td>W.S. Van Dyke,Albert Hackett,Frances Goodrich,...</td>\n      <td>43,160,486,502,559,581,620,664,856,926,1191,14...</td>\n      <td>1585</td>\n      <td>Comedy,Mystery</td>\n    </tr>\n    <tr>\n      <th>3</th>\n      <td>164</td>\n      <td>Nosferatu, eine Symphonie des Grauens</td>\n      <td>1922</td>\n      <td>0</td>\n      <td>94</td>\n      <td>Fantasy</td>\n      <td>Horror</td>\n      <td></td>\n      <td>3.871</td>\n      <td>4515</td>\n      <td>Max Schreck,Alexander Granach,Gustav von Wange...</td>\n      <td>F.W. Murnau,Henrik Galeen,Bram Stoker</td>\n      <td>138,150,908,926,1086,1393,1400,1464,1519,2025,...</td>\n      <td>1480</td>\n      <td>Fantasy,Horror</td>\n    </tr>\n    <tr>\n      <th>4</th>\n      <td>481</td>\n      <td>All Quiet on the Western Front</td>\n      <td>1930</td>\n      <td>0</td>\n      <td>152</td>\n      <td>Drama</td>\n      <td>War</td>\n      <td></td>\n      <td>3.936</td>\n      <td>2888</td>\n      <td>Lew Ayres,Louis Wolheim,John Wray,Arnold Lucy</td>\n      <td>Lewis Milestone,Erich Maria Remarque,Maxwell A...</td>\n      <td>187,255,408,486,540,1200,1551,1711,2025,2477,2...</td>\n      <td>996</td>\n      <td>Drama,War</td>\n    </tr>\n    <tr>\n      <th>...</th>\n      <td>...</td>\n      <td>...</td>\n      <td>...</td>\n      <td>...</td>\n      <td>...</td>\n      <td>...</td>\n      <td>...</td>\n      <td>...</td>\n      <td>...</td>\n      <td>...</td>\n      <td>...</td>\n      <td>...</td>\n      <td>...</td>\n      <td>...</td>\n      <td>...</td>\n    </tr>\n    <tr>\n      <th>2465</th>\n      <td>23482</td>\n      <td>The Aviator</td>\n      <td>2004</td>\n      <td>0</td>\n      <td>170</td>\n      <td>Biography</td>\n      <td>Drama</td>\n      <td></td>\n      <td>3.599</td>\n      <td>9606</td>\n      <td>Leonardo DiCaprio,John C. Reilly</td>\n      <td>Martin Scorsese,John Logan</td>\n      <td>414,540,549,1005,1028,1035,1126,1192,1427,1519...</td>\n      <td>1882</td>\n      <td>Biography,Drama</td>\n    </tr>\n    <tr>\n      <th>2466</th>\n      <td>36594</td>\n      <td>Spider-Man: Homecoming</td>\n      <td>2017</td>\n      <td>0</td>\n      <td>133</td>\n      <td>Action</td>\n      <td>Adventure</td>\n      <td>Sci-Fi</td>\n      <td>3.767</td>\n      <td>2662</td>\n      <td>Tom Holland,Michael Keaton,Robert Downey Jr.</td>\n      <td>Jon Watts,Jonathan Goldstein,John Francis Dale...</td>\n      <td>444,449,1089,2064,2230,2306,2618,2956,3360,379...</td>\n      <td>791</td>\n      <td>Action,Adventure,Sci-Fi</td>\n    </tr>\n    <tr>\n      <th>2467</th>\n      <td>9880</td>\n      <td>Eraserhead</td>\n      <td>1977</td>\n      <td>0</td>\n      <td>89</td>\n      <td>Fantasy</td>\n      <td>Horror</td>\n      <td></td>\n      <td>3.632</td>\n      <td>3516</td>\n      <td>Jack Nance,Allen Joseph</td>\n      <td>David Lynch</td>\n      <td>247,255,590,970,985,1185,1210,1242,1393,1980,2...</td>\n      <td>1109</td>\n      <td>Fantasy,Horror</td>\n    </tr>\n    <tr>\n      <th>2468</th>\n      <td>24757</td>\n      <td>Bolt</td>\n      <td>2008</td>\n      <td>0</td>\n      <td>96</td>\n      <td>Adventure</td>\n      <td>Animation</td>\n      <td>Comedy</td>\n      <td>3.363</td>\n      <td>3603</td>\n      <td>John Travolta,Mark Walton</td>\n      <td>Chris Williams,Byron Howard,Dan Fogelman</td>\n      <td>176,449,521,540,1010,1475,2418,3938,4559,5131,...</td>\n      <td>501</td>\n      <td>Adventure,Animation,Comedy</td>\n    </tr>\n    <tr>\n      <th>2469</th>\n      <td>39850</td>\n      <td>X-Men: Apocalypse</td>\n      <td>2016</td>\n      <td>0</td>\n      <td>144</td>\n      <td>Action</td>\n      <td>Adventure</td>\n      <td>Sci-Fi</td>\n      <td>3.300</td>\n      <td>2704</td>\n      <td>James McAvoy,Michael Fassbender,Nicholas Hoult</td>\n      <td>Bryan Singer,Simon Kinberg,Michael Dougherty,D...</td>\n      <td>368,379,2230,4226,4357,4586,4818,5903,6836,712...</td>\n      <td>410</td>\n      <td>Action,Adventure,Sci-Fi</td>\n    </tr>\n  </tbody>\n</table>\n<p>2470 rows × 15 columns</p>\n</div>"
     },
     "execution_count": 13,
     "metadata": {},
     "output_type": "execute_result"
    }
   ],
   "source": [
    "data = data_org.copy()\n",
    "data = data.drop(columns=['castlistfk', 'crewlistfk', 'crewnumber', 'castnumber','ratinglistfk'])\n",
    "data = data.replace('\\\\N', '')\n",
    "\n",
    "data['genre'] = data[['genre1', 'genre2', 'genre3']].apply(lambda row: \",\".join([genre for genre in row if genre]),\n",
    "                                                           axis=1)\n",
    "\n",
    "data['year'] = pd.to_numeric(data['year'], errors='coerce')\n",
    "data['runtime'] = pd.to_numeric(data['runtime'], errors='coerce')\n",
    "data[['year', 'runtime']] = data[['year', 'runtime']].interpolate(method='linear', limit_direction='forward', axis=0)\n",
    "\n",
    "data.info()\n",
    "\n",
    "data"
   ],
   "metadata": {
    "collapsed": false
   }
  },
  {
   "cell_type": "markdown",
   "source": [
    "Create matrix features  using CountVectorizer"
   ],
   "metadata": {
    "collapsed": false
   }
  },
  {
   "cell_type": "code",
   "execution_count": 14,
   "outputs": [
    {
     "name": "stdout",
     "output_type": "stream",
     "text": [
      "number of genre ( and binary columns) in future matrix 22\n",
      "number of cast ( and binary columns) in future matrix 633\n",
      "number of crew ( and binary columns) in futures matrix 813\n",
      "number of user ( and binary columns) in futures matrix 9695\n"
     ]
    },
    {
     "data": {
      "text/plain": "(2470, 11163)"
     },
     "execution_count": 14,
     "metadata": {},
     "output_type": "execute_result"
    }
   ],
   "source": [
    "from sklearn.feature_extraction.text import CountVectorizer\n",
    "count_genre = CountVectorizer(stop_words='english', tokenizer=lambda x: x.split(','), min_df=10)\n",
    "vector_genre = count_genre.fit_transform(data['genre'])  # remove first col, because empty (not genre )\n",
    "print(\"number of genre ( and binary columns) in future matrix\", vector_genre.toarray().shape[1])\n",
    "# #\n",
    "count_cast = CountVectorizer(stop_words='english', tokenizer=lambda x: x.split(','), min_df=3)\n",
    "vector_castlist = count_cast.fit_transform(data['castlist'])\n",
    "print(\"number of cast ( and binary columns) in future matrix\",vector_castlist.toarray().shape[1])\n",
    "\n",
    "count_crew = CountVectorizer(stop_words='english', tokenizer=lambda x: x.split(','), min_df=3)\n",
    "vector_crewlist = count_crew.fit_transform(data['crewlist'])\n",
    "print(\"number of crew ( and binary columns) in futures matrix\",vector_crewlist.toarray().shape[1])\n",
    "#\n",
    "count_user = CountVectorizer(stop_words='english', tokenizer=lambda x: x.split(','), min_df=100)\n",
    "vector_userlist = count_user.fit_transform(data['useridlist'])\n",
    "print(\"number of user ( and binary columns) in futures matrix\",vector_userlist.toarray().shape[1])\n",
    "#\n",
    "indices = pd.Series(index=data['title'], data=data.reset_index().index).drop_duplicates(keep='last')\n",
    "#\n",
    "features = np.hstack([vector_genre.toarray() *100 , vector_crewlist.toarray() *100, vector_castlist.toarray() *100,vector_userlist.toarray()])\n",
    "features.shape"
   ],
   "metadata": {
    "collapsed": false
   }
  },
  {
   "cell_type": "markdown",
   "source": [
    "Calculate distance between movies"
   ],
   "metadata": {
    "collapsed": false
   }
  },
  {
   "cell_type": "code",
   "execution_count": 15,
   "outputs": [],
   "source": [
    "from sklearn.metrics import pairwise_distances\n",
    "\n",
    "similarity = pairwise_distances(features, n_jobs=-1, metric='manhattan')\n",
    "similarity_df = pd.DataFrame(data=similarity, columns=indices.index)"
   ],
   "metadata": {
    "collapsed": false
   }
  },
  {
   "cell_type": "markdown",
   "source": [
    "Save model (pkl file)"
   ],
   "metadata": {
    "collapsed": false
   }
  },
  {
   "cell_type": "code",
   "execution_count": 16,
   "outputs": [],
   "source": [
    "import pickle\n",
    "f = open('similarity_df.pkl', 'wb')\n",
    "pickle.dump(similarity_df, f)\n",
    "f.close()"
   ],
   "metadata": {
    "collapsed": false
   }
  },
  {
   "cell_type": "markdown",
   "source": [
    "Recommendation function"
   ],
   "metadata": {
    "collapsed": false
   }
  },
  {
   "cell_type": "code",
   "execution_count": 17,
   "outputs": [
    {
     "name": "stdout",
     "output_type": "stream",
     "text": [
      "['Harry Potter and the Deathly Hallows: Part 1', 'Harry Potter and the Deathly Hallows: Part 2', 'Harry Potter and the Goblet of Fire', 'Fantastic Beasts and Where to Find Them', 'Harry Potter and the Chamber of Secrets', 'Harry Potter and the Prisoner of Azkaban', 'Swiss Family Robinson', \"Harry Potter and the Sorcerer's Stone\", 'Night at the Museum', 'Divergent']\n"
     ]
    }
   ],
   "source": [
    "import joblib\n",
    "\n",
    "def recommendation(title: pd.DataFrame):\n",
    "\n",
    "    data = joblib.load('similarity_df.pkl')\n",
    "    indices = pd.DataFrame({'title': data.columns, 'index_distance': data.index}).drop_duplicates(keep='last')\n",
    "\n",
    "    similarity = data.values\n",
    "\n",
    "    index = list(indices[indices['title'].isin(title)]['index_distance'])\n",
    "\n",
    "    sum_index_distance = np.sum(similarity[index], axis=0).reshape(-1,\n",
    "                                                                   1)  # add distance_between_movies if more than one title\n",
    "\n",
    "    similarity_scores = list(enumerate(list(sum_index_distance)))  # add distance_index\n",
    "\n",
    "    similarity_scores = sorted(similarity_scores, key=lambda x: x[1])  # sort by distance_between_movies\n",
    "\n",
    "    similarity_scores = similarity_scores[0 +len(title) :10 + len(title)]\n",
    "    movie_indices = [i[0] for i in similarity_scores]\n",
    "\n",
    "    return [indices[indices['index_distance'] == index_distance]['title'].values[0] for index_distance in movie_indices]\n",
    "\n",
    "\n",
    "print(recommendation([\"Harry Potter and the Order of the Phoenix\",\"Harry Potter and the Half-Blood Prince\"]))\n"
   ],
   "metadata": {
    "collapsed": false
   }
  },
  {
   "cell_type": "markdown",
   "source": [
    "Register model in Azure Machine Learning Studio (for create endpoint)"
   ],
   "metadata": {
    "collapsed": false
   }
  },
  {
   "cell_type": "code",
   "execution_count": null,
   "outputs": [],
   "source": [
    "from azureml.core import Workspace\n",
    "from azureml.core.model import Model\n",
    "\n",
    "\n",
    "subscription_id= \"9455b579-eee8-4f8d-ae1e-a23bfb9b72aa\"\n",
    "resource_group=\"Databricks\"\n",
    "workspace_name=\"Azure_machine_learning\"\n",
    "ws = Workspace(subscription_id=subscription_id,resource_group=resource_group,workspace_name=workspace_name)\n",
    "\n",
    "\n",
    "Model.register(model_path=\"similarity_df.pkl\",\n",
    "                          model_name=\"model_recsimilarity_model\",\n",
    "                          # tags={'area': \"diabetes\", 'type': \"classification\"},\n",
    "                          description=\"save distance between movies\",\n",
    "                          workspace=ws)"
   ],
   "metadata": {
    "collapsed": false,
    "pycharm": {
     "is_executing": true
    }
   }
  },
  {
   "cell_type": "markdown",
   "source": [
    "Save model as blob file (for update model)"
   ],
   "metadata": {
    "collapsed": false
   }
  },
  {
   "cell_type": "code",
   "execution_count": 23,
   "outputs": [],
   "source": [
    "from azure.storage.blob import BlobClient\n",
    "\n",
    "connectionString = \"DefaultEndpointsProtocol=https;AccountName=azuremachinele8230842786;AccountKey=EDDV7/IgWaE06todRtOxj4TEpwFlFMJjAxF47EHvKE+KcwGxO8tDs4jMIOnYI3Q+dONukza4tebe+ASt7z0pmA==;EndpointSuffix=core.windows.net\"\n",
    "containerName = 'pythoncode'\n",
    "outputBlobName = \"similarity_df.pkl\"\n",
    "blob = BlobClient.from_connection_string(conn_str=connectionString, container_name=containerName,\n",
    "                                         blob_name=outputBlobName)\n",
    "with open(outputBlobName, \"rb\") as data:\n",
    "    blob.upload_blob(data,overwrite=True)"
   ],
   "metadata": {
    "collapsed": false
   }
  }
 ],
 "metadata": {
  "kernelspec": {
   "display_name": "Python 3",
   "language": "python",
   "name": "python3"
  },
  "language_info": {
   "codemirror_mode": {
    "name": "ipython",
    "version": 2
   },
   "file_extension": ".py",
   "mimetype": "text/x-python",
   "name": "python",
   "nbconvert_exporter": "python",
   "pygments_lexer": "ipython2",
   "version": "2.7.6"
  }
 },
 "nbformat": 4,
 "nbformat_minor": 0
}
